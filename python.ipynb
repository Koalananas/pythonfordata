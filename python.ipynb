{
  "nbformat": 4,
  "nbformat_minor": 0,
  "metadata": {
    "colab": {
      "name": "python",
      "provenance": [],
      "collapsed_sections": []
    },
    "kernelspec": {
      "name": "python3",
      "display_name": "Python 3"
    }
  },
  "cells": [
    {
      "cell_type": "code",
      "metadata": {
        "id": "ODHjOgwOMlLt",
        "colab_type": "code",
        "colab": {}
      },
      "source": [
        "import pandas as pd\n",
        "import numpy as np\n",
        "import seaborn as sns\n",
        "import matplotlib.pyplot as plt"
      ],
      "execution_count": 0,
      "outputs": []
    },
    {
      "cell_type": "code",
      "metadata": {
        "id": "fbOwr_l2eQ5v",
        "colab_type": "code",
        "colab": {}
      },
      "source": [
        "labels = pd.read_csv(\"https://raw.githubusercontent.com/Koalananas/pythonfordata/master/datas/features.txt\", header=None)\n",
        "l = labels[0].tolist()\n",
        "labels = []\n",
        "#rename features with same name\n",
        "i = 0\n",
        "for la in l:\n",
        "  i += 1\n",
        "  la = la.replace(\" \", \"\")\n",
        "  while(la in labels):\n",
        "    la = la+\"x\"\n",
        "  labels.append(la)\n",
        "  #labels.append(i)\n",
        "\n",
        "df1x = pd.read_csv(\"https://raw.githubusercontent.com/Koalananas/pythonfordata/master/datas/Train/X_train.txt\",\" \", header=None, names=labels)\n",
        "df1y = pd.read_csv(\"https://raw.githubusercontent.com/Koalananas/pythonfordata/master/datas/Train/y_train.txt\",\" \", header=None, names=['y_target'])\n",
        "df1  = pd.concat([df1x, df1y], axis=1)\n",
        "\n",
        "df2x = pd.read_csv(\"https://raw.githubusercontent.com/Koalananas/pythonfordata/master/datas/Test/X_test.txt\",\" \", header=None, names=labels)\n",
        "df2y = pd.read_csv(\"https://raw.githubusercontent.com/Koalananas/pythonfordata/master/datas/Test/y_test.txt\",\" \", header=None, names=['y_target'])\n",
        "df2  = pd.concat([df2x, df2y], axis=1)\n",
        "\n",
        "df = pd.concat([df1, df2])"
      ],
      "execution_count": 0,
      "outputs": []
    },
    {
      "cell_type": "code",
      "metadata": {
        "id": "Fc8if389hNCK",
        "colab_type": "code",
        "colab": {}
      },
      "source": [
        "#test correlation matrix\n",
        "corr = df.corr()\n",
        "mask = np.triu(np.ones_like(corr, dtype=np.bool))\n",
        "f, ax = plt.subplots(figsize=(11, 9))\n",
        "cmap = sns.diverging_palette(220, 10, as_cmap=True)\n",
        "sns.heatmap(corr, mask=mask, cmap=cmap, vmax=.3, center=0,\n",
        "            square=True, linewidths=.5, cbar_kws={\"shrink\": .5})"
      ],
      "execution_count": 0,
      "outputs": []
    },
    {
      "cell_type": "code",
      "metadata": {
        "id": "l-MWngF4Px4x",
        "colab_type": "code",
        "outputId": "1b54785e-d7d6-4856-dd27-ed19d9db65f7",
        "colab": {
          "base_uri": "https://localhost:8080/",
          "height": 35
        }
      },
      "source": [
        "def svm(trainx, trainy, testx, testy):\n",
        "  from sklearn import svm\n",
        "  clf = svm.SVC(gamma=0.001, C=100.)\n",
        "  clf.fit(trainx, trainy.values.ravel())\n",
        "  predictions = clf.predict(testx)\n",
        "  i = 0\n",
        "  accuracy =0\n",
        "  for res in predictions:\n",
        "    if res == testy.loc[i, \"y_target\"]:\n",
        "      accuracy +=1\n",
        "    i+=1\n",
        "  accuracy = (accuracy/i)\n",
        "  return [clf, accuracy]\n",
        "\n",
        "svm(df1x, df1y, df2x, df2y)[1]"
      ],
      "execution_count": 0,
      "outputs": [
        {
          "output_type": "execute_result",
          "data": {
            "text/plain": [
              "0.9535104364326376"
            ]
          },
          "metadata": {
            "tags": []
          },
          "execution_count": 64
        }
      ]
    },
    {
      "cell_type": "code",
      "metadata": {
        "id": "mgV093tmUmK_",
        "colab_type": "code",
        "outputId": "30ec3efb-ee8b-4fa6-ceae-00aba2fdabf6",
        "colab": {
          "base_uri": "https://localhost:8080/",
          "height": 35
        }
      },
      "source": [
        "def rfc(trainx, trainy, testx, testy):\n",
        "  from sklearn.ensemble import RandomForestClassifier\n",
        "  rfc = RandomForestClassifier()\n",
        "  rfc.fit(trainx,trainy.values.ravel())\n",
        "  predictions = rfc.predict(testx)\n",
        "  i = 0\n",
        "  accuracy =0\n",
        "  for res in predictions:\n",
        "    if res == testy.loc[i, \"y_target\"]:\n",
        "      accuracy +=1\n",
        "    i+=1\n",
        "  accuracy = (accuracy/i)\n",
        "  return [rfc, accuracy]\n",
        "\n",
        "rfc(df1x, df1y, df2x, df2y)[1]"
      ],
      "execution_count": 0,
      "outputs": [
        {
          "output_type": "execute_result",
          "data": {
            "text/plain": [
              "0.9079696394686907"
            ]
          },
          "metadata": {
            "tags": []
          },
          "execution_count": 63
        }
      ]
    },
    {
      "cell_type": "code",
      "metadata": {
        "id": "2RAhDo-5XrLL",
        "colab_type": "code",
        "outputId": "ee44a95a-f4ca-4b4b-e9ce-25c065f19e50",
        "colab": {
          "base_uri": "https://localhost:8080/",
          "height": 35
        }
      },
      "source": [
        "def logreg(trainx, trainy, testx, testy):\n",
        "  from sklearn.linear_model import LogisticRegression\n",
        "  logres = LogisticRegression(multi_class=\"ovr\", max_iter=1000)\n",
        "  logres.fit(trainx, trainy.values.ravel())\n",
        "  predictions = logres.predict(testx)\n",
        "  i = 0\n",
        "  accuracy =0\n",
        "  for res in predictions:\n",
        "    if res == testy.loc[i, \"y_target\"]:\n",
        "      accuracy +=1\n",
        "    i+=1\n",
        "  accuracy = (accuracy/i)\n",
        "  return [logres, accuracy]\n",
        "\n",
        "logreg(df1x, df1y, df2x, df2y)[1]"
      ],
      "execution_count": 0,
      "outputs": [
        {
          "output_type": "execute_result",
          "data": {
            "text/plain": [
              "0.9468690702087287"
            ]
          },
          "metadata": {
            "tags": []
          },
          "execution_count": 65
        }
      ]
    }
  ]
}