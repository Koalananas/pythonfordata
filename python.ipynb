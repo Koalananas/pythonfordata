{
  "nbformat": 4,
  "nbformat_minor": 0,
  "metadata": {
    "colab": {
      "name": "python",
      "provenance": [],
      "collapsed_sections": [],
      "include_colab_link": true
    },
    "kernelspec": {
      "display_name": "Python 3",
      "language": "python",
      "name": "python3"
    },
    "language_info": {
      "codemirror_mode": {
        "name": "ipython",
        "version": 3
      },
      "file_extension": ".py",
      "mimetype": "text/x-python",
      "name": "python",
      "nbconvert_exporter": "python",
      "pygments_lexer": "ipython3",
      "version": "3.7.4"
    }
  },
  "cells": [
    {
      "cell_type": "markdown",
      "metadata": {
        "id": "view-in-github",
        "colab_type": "text"
      },
      "source": [
        "<a href=\"https://colab.research.google.com/github/Koalananas/pythonfordata/blob/master/python.ipynb\" target=\"_parent\"><img src=\"https://colab.research.google.com/assets/colab-badge.svg\" alt=\"Open In Colab\"/></a>"
      ]
    },
    {
      "cell_type": "code",
      "metadata": {
        "colab_type": "code",
        "id": "ODHjOgwOMlLt",
        "colab": {}
      },
      "source": [
        "import pandas as pd\n",
        "import numpy as np\n",
        "import seaborn as sns\n",
        "import matplotlib.pyplot as plt\n",
        "import pickle\n",
        "import time\n",
        "from sklearn.metrics import plot_confusion_matrix"
      ],
      "execution_count": 0,
      "outputs": []
    },
    {
      "cell_type": "code",
      "metadata": {
        "colab_type": "code",
        "id": "fbOwr_l2eQ5v",
        "colab": {
          "base_uri": "https://localhost:8080/",
          "height": 34
        },
        "outputId": "ebde95eb-93e2-4223-f47a-3fa66d5dfa73"
      },
      "source": [
        "labels = pd.read_csv(\"https://raw.githubusercontent.com/Koalananas/pythonfordata/master/datas/features.txt\", header=None)\n",
        "l = labels[0].tolist()\n",
        "labels = []\n",
        "i = 0\n",
        "for la in l:\n",
        "  i += 1\n",
        "  la = la.replace(\" \", \"\")\n",
        "  while(la in labels):\n",
        "    la = la+\"x\"\n",
        "  labels.append(la)\n",
        "\n",
        "train_x = pd.read_csv(\"https://raw.githubusercontent.com/Koalananas/pythonfordata/master/datas/Train/X_train.txt\",\" \", header=None, names=labels)\n",
        "train_y = pd.read_csv(\"https://raw.githubusercontent.com/Koalananas/pythonfordata/master/datas/Train/y_train.txt\",\" \", header=None, names=['y_target'])\n",
        "train  = pd.concat([train_x, train_y], axis=1)\n",
        "\n",
        "test_x = pd.read_csv(\"https://raw.githubusercontent.com/Koalananas/pythonfordata/master/datas/Test/X_test.txt\",\" \", header=None, names=labels)\n",
        "test_y = pd.read_csv(\"https://raw.githubusercontent.com/Koalananas/pythonfordata/master/datas/Test/y_test.txt\",\" \", header=None, names=['y_target'])\n",
        "test  = pd.concat([test_x, test_y], axis=1)\n",
        "\n",
        "df = pd.concat([train, test])\n",
        "df.shape"
      ],
      "execution_count": 4,
      "outputs": [
        {
          "output_type": "execute_result",
          "data": {
            "text/plain": [
              "(10929, 562)"
            ]
          },
          "metadata": {
            "tags": []
          },
          "execution_count": 4
        }
      ]
    },
    {
      "cell_type": "code",
      "metadata": {
        "colab_type": "code",
        "id": "Fc8if389hNCK",
        "colab": {}
      },
      "source": [
        "#test correlation matrix\n",
        "corr = df.corr()\n",
        "mask = np.triu(np.ones_like(corr, dtype=np.bool))\n",
        "f, ax = plt.subplots(figsize=(11, 9))\n",
        "cmap = sns.diverging_palette(220, 10, as_cmap=True)\n",
        "sns.heatmap(corr, mask=mask, cmap=cmap, vmax=.3, center=0,\n",
        "            square=True, linewidths=.5, cbar_kws={\"shrink\": .5})"
      ],
      "execution_count": 0,
      "outputs": []
    },
    {
      "cell_type": "code",
      "metadata": {
        "colab_type": "code",
        "id": "l-MWngF4Px4x",
        "outputId": "1b54785e-d7d6-4856-dd27-ed19d9db65f7",
        "colab": {
          "base_uri": "https://localhost:8080/",
          "height": 35
        }
      },
      "source": [
        "def svm(trainx, trainy, testx, testy):\n",
        "  from sklearn import svm\n",
        "  clf = svm.SVC(gamma=0.001, C=100., decision_function_shape='ovr')\n",
        "  clf.fit(trainx, trainy.values.ravel())\n",
        "  predictions = clf.predict(testx)\n",
        "  i = 0\n",
        "  accuracy =0\n",
        "  for res in predictions:\n",
        "    if res == testy.loc[i, \"y_target\"]:\n",
        "      accuracy +=1\n",
        "    i+=1\n",
        "  accuracy = (accuracy/i)\n",
        "  return [clf, accuracy]\n",
        "\n",
        "svm(train_x, train_y, test_x, test_y)[1]"
      ],
      "execution_count": 0,
      "outputs": [
        {
          "output_type": "execute_result",
          "data": {
            "text/plain": [
              "0.9535104364326376"
            ]
          },
          "metadata": {
            "tags": []
          },
          "execution_count": 14
        }
      ]
    },
    {
      "cell_type": "code",
      "metadata": {
        "colab_type": "code",
        "id": "mgV093tmUmK_",
        "outputId": "30ec3efb-ee8b-4fa6-ceae-00aba2fdabf6",
        "colab": {
          "base_uri": "https://localhost:8080/",
          "height": 35
        }
      },
      "source": [
        "def rfc(trainx, trainy, testx, testy):\n",
        "  from sklearn.ensemble import RandomForestClassifier\n",
        "  rfc = RandomForestClassifier(n_estimators = 100)\n",
        "  rfc.fit(trainx,trainy.values.ravel())\n",
        "  predictions = rfc.predict(testx)\n",
        "  i = 0\n",
        "  accuracy =0\n",
        "  for res in predictions:\n",
        "    if res == testy.loc[i, \"y_target\"]:\n",
        "      accuracy +=1\n",
        "    i+=1\n",
        "  accuracy = (accuracy/i)\n",
        "  return [rfc, accuracy]\n",
        "\n",
        "rfc(train_x, train_y, test_x, test_y)[1]"
      ],
      "execution_count": 0,
      "outputs": [
        {
          "output_type": "execute_result",
          "data": {
            "text/plain": [
              "0.9152435167615434"
            ]
          },
          "metadata": {
            "tags": []
          },
          "execution_count": 5
        }
      ]
    },
    {
      "cell_type": "code",
      "metadata": {
        "colab_type": "code",
        "id": "2RAhDo-5XrLL",
        "outputId": "17229eba-6fd6-4cb4-ee69-fda73b0b45f9",
        "colab": {
          "base_uri": "https://localhost:8080/",
          "height": 102
        }
      },
      "source": [
        "def logreg(trainx, trainy, testx, testy):\n",
        "  from sklearn.linear_model import LogisticRegression\n",
        "  time_start = time.clock()\n",
        "  logres = LogisticRegression(solver='lbfgs', multi_class=\"ovr\", max_iter=1000)\n",
        "  logres.fit(trainx, trainy.values.ravel())\n",
        "  predictions = logres.predict(testx)\n",
        "  i = 0\n",
        "  accuracy =0\n",
        "  for res in predictions:\n",
        "    if res == testy.loc[i, \"y_target\"]:\n",
        "      accuracy +=1\n",
        "    i+=1\n",
        "  accuracy = (accuracy/i)\n",
        "  time_elapsed = (time.clock() - time_start)\n",
        "  confusion_matrix(testy, predictions)\n",
        "  return [logres, accuracy, time_elapsed]\n",
        "\n",
        "logreg(train_x, train_y, test_x, test_y)"
      ],
      "execution_count": 13,
      "outputs": [
        {
          "output_type": "execute_result",
          "data": {
            "text/plain": [
              "[LogisticRegression(C=1.0, class_weight=None, dual=False, fit_intercept=True,\n",
              "                    intercept_scaling=1, l1_ratio=None, max_iter=1000,\n",
              "                    multi_class='ovr', n_jobs=None, penalty='l2',\n",
              "                    random_state=None, solver='lbfgs', tol=0.0001, verbose=0,\n",
              "                    warm_start=False), 0.9468690702087287, 74.66554]"
            ]
          },
          "metadata": {
            "tags": []
          },
          "execution_count": 13
        }
      ]
    },
    {
      "cell_type": "code",
      "metadata": {
        "id": "J2B5FTExfv2r",
        "colab_type": "code",
        "colab": {
          "base_uri": "https://localhost:8080/",
          "height": 283
        },
        "outputId": "686da069-6863-49c7-a37b-110c0ebfa990"
      },
      "source": [
        "logres = logreg(train_x, train_y, test_x, test_y)[0]\n",
        "disp = plot_confusion_matrix(logres, test_x, test_y,\n",
        "  cmap=plt.cm.Blues,\n",
        "  normalize=\"true\",include_values=False)"
      ],
      "execution_count": 30,
      "outputs": [
        {
          "output_type": "display_data",
          "data": {
            "image/png": "[encoded data removed]",
            "text/plain": [
              "<Figure size 432x288 with 2 Axes>"
            ]
          },
          "metadata": {
            "tags": []
          }
        }
      ]
    },
    {
      "cell_type": "code",
      "metadata": {
        "id": "N-53ek4sZ1Lj",
        "colab_type": "code",
        "colab": {}
      },
      "source": [
        "modellog = logreg(train_x, train_y, test_x, test_y)[0]\n",
        "with open(\"pythonfordata/models/model\", 'wb') as file:\n",
        "            pickle.dump(modellog, file)"
      ],
      "execution_count": 0,
      "outputs": []
    }
  ]
}