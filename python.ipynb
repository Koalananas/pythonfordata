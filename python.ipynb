{
 "cells": [
  {
   "cell_type": "code",
   "execution_count": 9,
   "metadata": {
    "colab": {},
    "colab_type": "code",
    "id": "ODHjOgwOMlLt"
   },
   "outputs": [],
   "source": [
    "import pandas as pd\n",
    "import numpy as np\n",
    "import seaborn as sns\n",
    "import matplotlib.pyplot as plt\n",
    "import pickle"
   ]
  },
  {
   "cell_type": "code",
   "execution_count": 2,
   "metadata": {
    "colab": {},
    "colab_type": "code",
    "id": "fbOwr_l2eQ5v"
   },
   "outputs": [],
   "source": [
    "labels = pd.read_csv(\"https://raw.githubusercontent.com/Koalananas/pythonfordata/master/datas/features.txt\", header=None)\n",
    "l = labels[0].tolist()\n",
    "labels = []\n",
    "#rename features with same name\n",
    "i = 0\n",
    "for la in l:\n",
    "  i += 1\n",
    "  la = la.replace(\" \", \"\")\n",
    "  while(la in labels):\n",
    "    la = la+\"x\"\n",
    "  labels.append(la)\n",
    "  #labels.append(i)\n",
    "\n",
    "df1x = pd.read_csv(\"https://raw.githubusercontent.com/Koalananas/pythonfordata/master/datas/Train/X_train.txt\",\" \", header=None, names=labels)\n",
    "df1y = pd.read_csv(\"https://raw.githubusercontent.com/Koalananas/pythonfordata/master/datas/Train/y_train.txt\",\" \", header=None, names=['y_target'])\n",
    "df1  = pd.concat([df1x, df1y], axis=1)\n",
    "\n",
    "df2x = pd.read_csv(\"https://raw.githubusercontent.com/Koalananas/pythonfordata/master/datas/Test/X_test.txt\",\" \", header=None, names=labels)\n",
    "df2y = pd.read_csv(\"https://raw.githubusercontent.com/Koalananas/pythonfordata/master/datas/Test/y_test.txt\",\" \", header=None, names=['y_target'])\n",
    "df2  = pd.concat([df2x, df2y], axis=1)\n",
    "\n",
    "df = pd.concat([df1, df2])"
   ]
  },
  {
   "cell_type": "code",
   "execution_count": 0,
   "metadata": {
    "colab": {},
    "colab_type": "code",
    "id": "Fc8if389hNCK"
   },
   "outputs": [],
   "source": [
    "#test correlation matrix\n",
    "corr = df.corr()\n",
    "mask = np.triu(np.ones_like(corr, dtype=np.bool))\n",
    "f, ax = plt.subplots(figsize=(11, 9))\n",
    "cmap = sns.diverging_palette(220, 10, as_cmap=True)\n",
    "sns.heatmap(corr, mask=mask, cmap=cmap, vmax=.3, center=0,\n",
    "            square=True, linewidths=.5, cbar_kws={\"shrink\": .5})"
   ]
  },
  {
   "cell_type": "code",
   "execution_count": 3,
   "metadata": {
    "colab": {
     "base_uri": "https://localhost:8080/",
     "height": 35
    },
    "colab_type": "code",
    "id": "l-MWngF4Px4x",
    "outputId": "1b54785e-d7d6-4856-dd27-ed19d9db65f7"
   },
   "outputs": [
    {
     "data": {
      "text/plain": [
       "0.9535104364326376"
      ]
     },
     "execution_count": 3,
     "metadata": {},
     "output_type": "execute_result"
    }
   ],
   "source": [
    "def svm(trainx, trainy, testx, testy):\n",
    "  from sklearn import svm\n",
    "  clf = svm.SVC(gamma=0.001, C=100.)\n",
    "  clf.fit(trainx, trainy.values.ravel())\n",
    "  predictions = clf.predict(testx)\n",
    "  i = 0\n",
    "  accuracy =0\n",
    "  for res in predictions:\n",
    "    if res == testy.loc[i, \"y_target\"]:\n",
    "      accuracy +=1\n",
    "    i+=1\n",
    "  accuracy = (accuracy/i)\n",
    "  return [clf, accuracy]\n",
    "\n",
    "svm(df1x, df1y, df2x, df2y)[1]"
   ]
  },
  {
   "cell_type": "code",
   "execution_count": 5,
   "metadata": {
    "colab": {
     "base_uri": "https://localhost:8080/",
     "height": 35
    },
    "colab_type": "code",
    "id": "mgV093tmUmK_",
    "outputId": "30ec3efb-ee8b-4fa6-ceae-00aba2fdabf6"
   },
   "outputs": [
    {
     "data": {
      "text/plain": [
       "0.9152435167615434"
      ]
     },
     "execution_count": 5,
     "metadata": {},
     "output_type": "execute_result"
    }
   ],
   "source": [
    "def rfc(trainx, trainy, testx, testy):\n",
    "  from sklearn.ensemble import RandomForestClassifier\n",
    "  rfc = RandomForestClassifier(n_estimators = 100)\n",
    "  rfc.fit(trainx,trainy.values.ravel())\n",
    "  predictions = rfc.predict(testx)\n",
    "  i = 0\n",
    "  accuracy =0\n",
    "  for res in predictions:\n",
    "    if res == testy.loc[i, \"y_target\"]:\n",
    "      accuracy +=1\n",
    "    i+=1\n",
    "  accuracy = (accuracy/i)\n",
    "  return [rfc, accuracy]\n",
    "\n",
    "rfc(df1x, df1y, df2x, df2y)[1]"
   ]
  },
  {
   "cell_type": "code",
   "execution_count": 7,
   "metadata": {
    "colab": {
     "base_uri": "https://localhost:8080/",
     "height": 35
    },
    "colab_type": "code",
    "id": "2RAhDo-5XrLL",
    "outputId": "ee44a95a-f4ca-4b4b-e9ce-25c065f19e50"
   },
   "outputs": [
    {
     "data": {
      "text/plain": [
       "0.9468690702087287"
      ]
     },
     "execution_count": 7,
     "metadata": {},
     "output_type": "execute_result"
    }
   ],
   "source": [
    "def logreg(trainx, trainy, testx, testy):\n",
    "  from sklearn.linear_model import LogisticRegression\n",
    "  logres = LogisticRegression(solver='lbfgs', multi_class=\"ovr\", max_iter=1000)\n",
    "  logres.fit(trainx, trainy.values.ravel())\n",
    "  predictions = logres.predict(testx)\n",
    "  i = 0\n",
    "  accuracy =0\n",
    "  for res in predictions:\n",
    "    if res == testy.loc[i, \"y_target\"]:\n",
    "      accuracy +=1\n",
    "    i+=1\n",
    "  accuracy = (accuracy/i)\n",
    "  return [logres, accuracy]\n",
    "\n",
    "logreg(df1x, df1y, df2x, df2y)[1]"
   ]
  },
  {
   "cell_type": "code",
   "execution_count": 12,
   "metadata": {},
   "outputs": [],
   "source": [
    "modelsvm = svm(df1x, df1y, df2x, df2y)[0]\n",
    "with open(\"pythonfordata/models/model\", 'wb') as file:\n",
    "            pickle.dump(modelsvm, file)"
   ]
  }
 ],
 "metadata": {
  "colab": {
   "collapsed_sections": [],
   "name": "python",
   "provenance": []
  },
  "kernelspec": {
   "display_name": "Python 3",
   "language": "python",
   "name": "python3"
  },
  "language_info": {
   "codemirror_mode": {
    "name": "ipython",
    "version": 3
   },
   "file_extension": ".py",
   "mimetype": "text/x-python",
   "name": "python",
   "nbconvert_exporter": "python",
   "pygments_lexer": "ipython3",
   "version": "3.7.4"
  }
 },
 "nbformat": 4,
 "nbformat_minor": 1
}
