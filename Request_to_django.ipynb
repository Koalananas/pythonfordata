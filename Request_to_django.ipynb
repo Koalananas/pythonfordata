{
 "cells": [
  {
   "cell_type": "code",
   "execution_count": 153,
   "metadata": {},
   "outputs": [],
   "source": [
    "import pandas as pd\n",
    "import numpy as np\n",
    "import json\n",
    "import requests\n",
    "import json\n",
    "import time"
   ]
  },
  {
   "cell_type": "code",
   "execution_count": 150,
   "metadata": {},
   "outputs": [],
   "source": [
    "labels = pd.read_csv(\"https://raw.githubusercontent.com/Koalananas/pythonfordata/master/datas/features.txt\", header=None)\n",
    "l = labels[0].tolist()\n",
    "labels = []\n",
    "\n",
    "i = 0\n",
    "for la in l:\n",
    "  i += 1\n",
    "  la = la.replace(\" \", \"\")\n",
    "  while(la in labels):\n",
    "    la = la+\"x\"\n",
    "  labels.append(la)\n",
    "  #labels.append(i)\n",
    "\n",
    "test_x = pd.read_csv(\"https://raw.githubusercontent.com/Koalananas/pythonfordata/master/datas/Test/X_test.txt\",\" \", header=None, names=labels)\n",
    "test_y = pd.read_csv(\"https://raw.githubusercontent.com/Koalananas/pythonfordata/master/datas/Test/y_test.txt\",\" \", header=None, names=['y_target'])\n",
    "test  = pd.concat([test_x, test_y], axis=1)"
   ]
  },
  {
   "cell_type": "code",
   "execution_count": 146,
   "metadata": {},
   "outputs": [],
   "source": [
    "y_label = pd.read_csv(\"https://raw.githubusercontent.com/Koalananas/pythonfordata/master/datas/activity_labels.txt\", header=None)\n",
    "y_label = y_label[0].tolist()\n",
    "tmp = []\n",
    "for y in y_label:\n",
    "    tmp.append(y.split(\" \")[1])\n",
    "y_label = tmp"
   ]
  },
  {
   "cell_type": "code",
   "execution_count": 134,
   "metadata": {},
   "outputs": [],
   "source": [
    "#object json from df\n",
    "#requetteJson = json.loads(df2x[:2].to_json())\n",
    "#df from json\n",
    "#requettePD = pd.read_json(json.dumps(requetteJson))"
   ]
  },
  {
   "cell_type": "code",
   "execution_count": 167,
   "metadata": {},
   "outputs": [
    {
     "name": "stdout",
     "output_type": "stream",
     "text": [
      "0.017165422439575195\n"
     ]
    },
    {
     "data": {
      "text/plain": [
       "['STANDING', 'WALKING_UPSTAIRS', 'LAYING', 'STANDING', 'LAYING']"
      ]
     },
     "execution_count": 167,
     "metadata": {},
     "output_type": "execute_result"
    }
   ],
   "source": [
    "def request(df):\n",
    "    requetteJson = json.loads(df.to_json())\n",
    "    URL = \"http://127.0.0.1:8000/App/predict/\"\n",
    "    results = json.loads(requests.post(url=URL, data = {'demande':json.dumps(requetteJson)}).text)\n",
    "    tmp = []\n",
    "    for r in results:\n",
    "        tmp.append(y_label[r-1])\n",
    "    results = tmp\n",
    "    return results\n",
    "\n",
    "\n",
    "time_start = time.time()\n",
    "testme  = (test_x.sample(frac=1))[:5]\n",
    "print(time.time() - time_start)\n",
    "request(testme)"
   ]
  },
  {
   "cell_type": "code",
   "execution_count": null,
   "metadata": {},
   "outputs": [],
   "source": []
  }
 ],
 "metadata": {
  "kernelspec": {
   "display_name": "Python 3",
   "language": "python",
   "name": "python3"
  },
  "language_info": {
   "codemirror_mode": {
    "name": "ipython",
    "version": 3
   },
   "file_extension": ".py",
   "mimetype": "text/x-python",
   "name": "python",
   "nbconvert_exporter": "python",
   "pygments_lexer": "ipython3",
   "version": "3.7.4"
  }
 },
 "nbformat": 4,
 "nbformat_minor": 2
}
