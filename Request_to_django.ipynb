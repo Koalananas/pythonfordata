{
 "cells": [
  {
   "cell_type": "code",
   "execution_count": 7,
   "metadata": {},
   "outputs": [],
   "source": [
    "import pandas as pd\n",
    "import numpy as np\n",
    "import json\n",
    "import requests\n",
    "import json"
   ]
  },
  {
   "cell_type": "code",
   "execution_count": 4,
   "metadata": {},
   "outputs": [],
   "source": [
    "labels = pd.read_csv(\"https://raw.githubusercontent.com/Koalananas/pythonfordata/master/datas/features.txt\", header=None)\n",
    "l = labels[0].tolist()\n",
    "labels = []\n",
    "\n",
    "i = 0\n",
    "for la in l:\n",
    "  i += 1\n",
    "  la = la.replace(\" \", \"\")\n",
    "  while(la in labels):\n",
    "    la = la+\"x\"\n",
    "  labels.append(la)\n",
    "  #labels.append(i)\n",
    "\n",
    "df2x = pd.read_csv(\"https://raw.githubusercontent.com/Koalananas/pythonfordata/master/datas/Test/X_test.txt\",\" \", header=None, names=labels)\n",
    "df2y = pd.read_csv(\"https://raw.githubusercontent.com/Koalananas/pythonfordata/master/datas/Test/y_test.txt\",\" \", header=None, names=['y_target'])\n",
    "df  = pd.concat([df2x, df2y], axis=1)"
   ]
  },
  {
   "cell_type": "code",
   "execution_count": 110,
   "metadata": {},
   "outputs": [],
   "source": [
    "#object json from df\n",
    "#requetteJson = json.loads(df2x[:2].to_json())\n",
    "#df from json\n",
    "#requettePD = pd.read_json(json.dumps(requetteJson))"
   ]
  },
  {
   "cell_type": "code",
   "execution_count": 125,
   "metadata": {},
   "outputs": [
    {
     "data": {
      "text/plain": [
       "'[2, 2, 6, 5, 1, 1, 6, 6, 3, 2, 5, 2, 3, 1, 2, 2, 6, 4, 5, 6, 3, 5, 1, 6, 5, 6, 4, 1, 1, 2, 3, 2, 2, 6, 6, 5, 12, 6, 3, 1, 3, 6, 6, 6, 2, 1, 1, 1, 3, 6, 1, 2, 3, 5, 5, 3, 6, 2, 1, 5, 2, 4, 1, 3, 1, 2, 6, 4, 2, 6, 5, 5, 3, 5, 1, 6, 6, 6, 6, 5, 4, 1, 6, 11, 6, 1, 2, 4, 2, 6, 2, 5, 4, 5, 4, 9, 5, 3, 2, 4]'"
      ]
     },
     "execution_count": 125,
     "metadata": {},
     "output_type": "execute_result"
    }
   ],
   "source": [
    "def request(df):\n",
    "    requetteJson = json.loads(df.to_json())\n",
    "    URL = \"http://127.0.0.1:8000/App/predict/\"\n",
    "    results = json.loads(requests.post(url=URL, data = {'demande':json.dumps(requetteJson)}).text)\n",
    "    return results\n",
    "\n",
    "json.dumps(request(df2x[:100]))"
   ]
  }
 ],
 "metadata": {
  "kernelspec": {
   "display_name": "Python 3",
   "language": "python",
   "name": "python3"
  },
  "language_info": {
   "codemirror_mode": {
    "name": "ipython",
    "version": 3
   },
   "file_extension": ".py",
   "mimetype": "text/x-python",
   "name": "python",
   "nbconvert_exporter": "python",
   "pygments_lexer": "ipython3",
   "version": "3.7.4"
  }
 },
 "nbformat": 4,
 "nbformat_minor": 2
}
